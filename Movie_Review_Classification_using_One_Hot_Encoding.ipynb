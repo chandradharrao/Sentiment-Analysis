{
  "nbformat": 4,
  "nbformat_minor": 0,
  "metadata": {
    "kernelspec": {
      "display_name": "Python 3",
      "language": "python",
      "name": "python3"
    },
    "language_info": {
      "codemirror_mode": {
        "name": "ipython",
        "version": 3
      },
      "file_extension": ".py",
      "mimetype": "text/x-python",
      "name": "python",
      "nbconvert_exporter": "python",
      "pygments_lexer": "ipython3",
      "version": "3.5.6"
    },
    "colab": {
      "name": "Movie Review Classification using One Hot Encoding.ipynb",
      "provenance": [],
      "include_colab_link": true
    }
  },
  "cells": [
    {
      "cell_type": "markdown",
      "metadata": {
        "id": "view-in-github",
        "colab_type": "text"
      },
      "source": [
        "<a href=\"https://colab.research.google.com/github/chandradharrao/Sentiment-Analysis/blob/master/Movie_Review_Classification_using_One_Hot_Encoding.ipynb\" target=\"_parent\"><img src=\"https://colab.research.google.com/assets/colab-badge.svg\" alt=\"Open In Colab\"/></a>"
      ]
    },
    {
      "cell_type": "code",
      "metadata": {
        "colab": {
          "base_uri": "https://localhost:8080/"
        },
        "id": "yzC7rlJEr2Qg",
        "outputId": "3103132b-5766-4644-fb8e-a66dea02bad9"
      },
      "source": [
        "from keras.datasets import imdb\n",
        "(train_data, train_labels), (test_data, test_labels) = imdb.load_data(\n",
        "num_words=10000)"
      ],
      "execution_count": 1,
      "outputs": [
        {
          "output_type": "stream",
          "text": [
            "Downloading data from https://storage.googleapis.com/tensorflow/tf-keras-datasets/imdb.npz\n",
            "17465344/17464789 [==============================] - 0s 0us/step\n"
          ],
          "name": "stdout"
        },
        {
          "output_type": "stream",
          "text": [
            "<string>:6: VisibleDeprecationWarning: Creating an ndarray from ragged nested sequences (which is a list-or-tuple of lists-or-tuples-or ndarrays with different lengths or shapes) is deprecated. If you meant to do this, you must specify 'dtype=object' when creating the ndarray\n",
            "/usr/local/lib/python3.7/dist-packages/tensorflow/python/keras/datasets/imdb.py:159: VisibleDeprecationWarning: Creating an ndarray from ragged nested sequences (which is a list-or-tuple of lists-or-tuples-or ndarrays with different lengths or shapes) is deprecated. If you meant to do this, you must specify 'dtype=object' when creating the ndarray\n",
            "  x_train, y_train = np.array(xs[:idx]), np.array(labels[:idx])\n",
            "/usr/local/lib/python3.7/dist-packages/tensorflow/python/keras/datasets/imdb.py:160: VisibleDeprecationWarning: Creating an ndarray from ragged nested sequences (which is a list-or-tuple of lists-or-tuples-or ndarrays with different lengths or shapes) is deprecated. If you meant to do this, you must specify 'dtype=object' when creating the ndarray\n",
            "  x_test, y_test = np.array(xs[idx:]), np.array(labels[idx:])\n"
          ],
          "name": "stderr"
        }
      ]
    },
    {
      "cell_type": "code",
      "metadata": {
        "colab": {
          "base_uri": "https://localhost:8080/"
        },
        "id": "oUECRhH4r2Qp",
        "outputId": "ee86c57d-e70b-466e-e418-41d8d0b2d2d1"
      },
      "source": [
        "import numpy as np\n",
        "def one_hot_encode(sequences,dimension = 10000): \n",
        "    numSequences = len(sequences)\n",
        "    #one hot encoded vector will have 10k len vector with 0s except for index\n",
        "    #corresponding to the presence of the int\n",
        "    res = np.zeros((numSequences,dimension))\n",
        "    for seqNum,seq in enumerate(sequences):\n",
        "        for word in seq:\n",
        "            res[seqNum,word] = 1\n",
        "    return res\n",
        "x_train = one_hot_encode(train_data)\n",
        "x_test = one_hot_encode(test_data)\n",
        "\n",
        "print(x_train)\n",
        "print(x_test)"
      ],
      "execution_count": 2,
      "outputs": [
        {
          "output_type": "stream",
          "text": [
            "[[0. 1. 1. ... 0. 0. 0.]\n",
            " [0. 1. 1. ... 0. 0. 0.]\n",
            " [0. 1. 1. ... 0. 0. 0.]\n",
            " ...\n",
            " [0. 1. 1. ... 0. 0. 0.]\n",
            " [0. 1. 1. ... 0. 0. 0.]\n",
            " [0. 1. 1. ... 0. 0. 0.]]\n",
            "[[0. 1. 1. ... 0. 0. 0.]\n",
            " [0. 1. 1. ... 0. 0. 0.]\n",
            " [0. 1. 1. ... 0. 0. 0.]\n",
            " ...\n",
            " [0. 1. 1. ... 0. 0. 0.]\n",
            " [0. 1. 1. ... 0. 0. 0.]\n",
            " [0. 1. 1. ... 0. 0. 0.]]\n"
          ],
          "name": "stdout"
        }
      ]
    },
    {
      "cell_type": "code",
      "metadata": {
        "id": "sYEOMfw1t9yh"
      },
      "source": [
        "#convert the labes from py lists t numpy arrays\n",
        "y_train = np.asarray(train_labels).astype('float32')\n",
        "y_test = np.asarray(test_labels).astype('float32')"
      ],
      "execution_count": 3,
      "outputs": []
    },
    {
      "cell_type": "code",
      "metadata": {
        "id": "HPeHn_Nyr2Qq"
      },
      "source": [
        "from keras import models,layers\n",
        "from keras import optimizers\n",
        "\n",
        "model = models.Sequential()\n",
        "#input is a vector ie 1D tensor with shape(10000,) ie 100000 rows\n",
        "#weight matrix is a 2D tensor with shape(10000,16)\n",
        "#output = relu(inpt.weight + b)\n",
        "model.add(layers.Dense(16,activation = \"relu\",input_shape = (10000,)))\n",
        "model.add(layers.Dense(16,activation = \"relu\"))\n",
        "#signmoid activation function to squash values between 0 to 1,hence one unit layer is enough\n",
        "model.add(layers.Dense(1,activation = \"sigmoid\"))"
      ],
      "execution_count": 4,
      "outputs": []
    },
    {
      "cell_type": "code",
      "metadata": {
        "id": "ANfPnHDor2Qr"
      },
      "source": [
        "model.compile(optimizer = \"rmsprop\",\n",
        "              loss = \"binary_crossentropy\",\n",
        "              metrics = ['accuracy'])"
      ],
      "execution_count": 5,
      "outputs": []
    },
    {
      "cell_type": "code",
      "metadata": {
        "colab": {
          "base_uri": "https://localhost:8080/"
        },
        "id": "9yBYJTB1r2Qr",
        "outputId": "8034d78c-0cb1-4679-a7a9-69cbd7595ac2"
      },
      "source": [
        "#set aside first 10k samples to validate model on unseen data while training\n",
        "x_val = x_train[:10000]\n",
        "y_val = train_labels[:10000]\n",
        "#the remaing samples for training\n",
        "partial_x_train = x_train[10000:]\n",
        "partial_y_train = train_labels[10000:]\n",
        "history = model.fit(partial_x_train,\n",
        "                    partial_y_train,\n",
        "                    epochs = 20,\n",
        "                    batch_size = 512,\n",
        "                    validation_data = (x_val,y_val))"
      ],
      "execution_count": 6,
      "outputs": [
        {
          "output_type": "stream",
          "text": [
            "Epoch 1/20\n",
            "30/30 [==============================] - 3s 58ms/step - loss: 0.6131 - accuracy: 0.7175 - val_loss: 0.4375 - val_accuracy: 0.8614\n",
            "Epoch 2/20\n",
            "30/30 [==============================] - 1s 34ms/step - loss: 0.3678 - accuracy: 0.8957 - val_loss: 0.3270 - val_accuracy: 0.8844\n",
            "Epoch 3/20\n",
            "30/30 [==============================] - 1s 33ms/step - loss: 0.2569 - accuracy: 0.9220 - val_loss: 0.2984 - val_accuracy: 0.8804\n",
            "Epoch 4/20\n",
            "30/30 [==============================] - 1s 34ms/step - loss: 0.2062 - accuracy: 0.9328 - val_loss: 0.2785 - val_accuracy: 0.8885\n",
            "Epoch 5/20\n",
            "30/30 [==============================] - 1s 33ms/step - loss: 0.1560 - accuracy: 0.9528 - val_loss: 0.2763 - val_accuracy: 0.8893\n",
            "Epoch 6/20\n",
            "30/30 [==============================] - 1s 33ms/step - loss: 0.1306 - accuracy: 0.9611 - val_loss: 0.3053 - val_accuracy: 0.8809\n",
            "Epoch 7/20\n",
            "30/30 [==============================] - 1s 33ms/step - loss: 0.1126 - accuracy: 0.9672 - val_loss: 0.3037 - val_accuracy: 0.8817\n",
            "Epoch 8/20\n",
            "30/30 [==============================] - 1s 33ms/step - loss: 0.0940 - accuracy: 0.9745 - val_loss: 0.3195 - val_accuracy: 0.8791\n",
            "Epoch 9/20\n",
            "30/30 [==============================] - 1s 33ms/step - loss: 0.0763 - accuracy: 0.9797 - val_loss: 0.3476 - val_accuracy: 0.8772\n",
            "Epoch 10/20\n",
            "30/30 [==============================] - 1s 33ms/step - loss: 0.0612 - accuracy: 0.9856 - val_loss: 0.3976 - val_accuracy: 0.8682\n",
            "Epoch 11/20\n",
            "30/30 [==============================] - 1s 34ms/step - loss: 0.0529 - accuracy: 0.9870 - val_loss: 0.3773 - val_accuracy: 0.8792\n",
            "Epoch 12/20\n",
            "30/30 [==============================] - 1s 34ms/step - loss: 0.0408 - accuracy: 0.9916 - val_loss: 0.4193 - val_accuracy: 0.8693\n",
            "Epoch 13/20\n",
            "30/30 [==============================] - 1s 33ms/step - loss: 0.0334 - accuracy: 0.9932 - val_loss: 0.4403 - val_accuracy: 0.8756\n",
            "Epoch 14/20\n",
            "30/30 [==============================] - 1s 33ms/step - loss: 0.0270 - accuracy: 0.9955 - val_loss: 0.4657 - val_accuracy: 0.8728\n",
            "Epoch 15/20\n",
            "30/30 [==============================] - 1s 34ms/step - loss: 0.0209 - accuracy: 0.9963 - val_loss: 0.5205 - val_accuracy: 0.8716\n",
            "Epoch 16/20\n",
            "30/30 [==============================] - 1s 33ms/step - loss: 0.0166 - accuracy: 0.9979 - val_loss: 0.5328 - val_accuracy: 0.8692\n",
            "Epoch 17/20\n",
            "30/30 [==============================] - 1s 33ms/step - loss: 0.0125 - accuracy: 0.9987 - val_loss: 0.5664 - val_accuracy: 0.8673\n",
            "Epoch 18/20\n",
            "30/30 [==============================] - 1s 34ms/step - loss: 0.0090 - accuracy: 0.9994 - val_loss: 0.6013 - val_accuracy: 0.8676\n",
            "Epoch 19/20\n",
            "30/30 [==============================] - 1s 33ms/step - loss: 0.0070 - accuracy: 0.9998 - val_loss: 0.7125 - val_accuracy: 0.8554\n",
            "Epoch 20/20\n",
            "30/30 [==============================] - 1s 33ms/step - loss: 0.0070 - accuracy: 0.9997 - val_loss: 0.7365 - val_accuracy: 0.8599\n"
          ],
          "name": "stdout"
        }
      ]
    },
    {
      "cell_type": "code",
      "metadata": {
        "colab": {
          "base_uri": "https://localhost:8080/"
        },
        "id": "lum2_DSMr2Qr",
        "outputId": "0d454fd3-9c24-48ac-9905-d9e5e12b838a"
      },
      "source": [
        "#history object contains the history member\n",
        "history_dict = history.history\n",
        "print(\"history obj keys\",history_dict.keys())"
      ],
      "execution_count": 7,
      "outputs": [
        {
          "output_type": "stream",
          "text": [
            "history obj keys dict_keys(['loss', 'accuracy', 'val_loss', 'val_accuracy'])\n"
          ],
          "name": "stdout"
        }
      ]
    },
    {
      "cell_type": "code",
      "metadata": {
        "colab": {
          "base_uri": "https://localhost:8080/",
          "height": 279
        },
        "id": "ubm9FCtur2Qs",
        "outputId": "cccdb9b1-3c71-461f-f173-6326334a6cec"
      },
      "source": [
        "#plotting training and validation loss\n",
        "import matplotlib.pyplot as plt\n",
        "def plot_loss(history_dict,epochs):\n",
        "    #loss during training\n",
        "    training_loss = history_dict[\"loss\"]\n",
        "    #loss observed when validating on unseen data set\n",
        "    validation_loss = history_dict[\"val_loss\"]\n",
        "    #x axis is number of epochs\n",
        "    x = [x for x in range(1,epochs+1)]\n",
        "    #y axis is the two types of losses encounterd\n",
        "    y1 = [x for x in training_loss]\n",
        "    y2 = [x for x in validation_loss]\n",
        "    plt.plot(x,y1,label = \"training loss\" )\n",
        "    plt.plot(x,y2,label = \"validation loss\")\n",
        "    plt.xlabel(\"epochs\")\n",
        "    plt.ylabel(\"loss\")\n",
        "    plt.legend()\n",
        "    plt.show()\n",
        "plot_loss(history_dict,20)"
      ],
      "execution_count": 8,
      "outputs": [
        {
          "output_type": "display_data",
          "data": {
            "image/png": "[encoded data removed]",
            "text/plain": [
              "<Figure size 432x288 with 1 Axes>"
            ]
          },
          "metadata": {
            "tags": [],
            "needs_background": "light"
          }
        }
      ]
    },
    {
      "cell_type": "code",
      "metadata": {
        "colab": {
          "base_uri": "https://localhost:8080/",
          "height": 265
        },
        "id": "7tQa596jr2Qs",
        "outputId": "cb75dc05-0246-49c0-b90f-be8f36fd5502"
      },
      "source": [
        "#pottig training and validation accuracy\n",
        "def acc_plot(history_dict,epochs):\n",
        "    training_acc = history_dict[\"accuracy\"]\n",
        "    validation_acc = history_dict[\"val_accuracy\"]\n",
        "    x = [x for x in range(1,epochs+1)]\n",
        "    y1 = [x for x in training_acc]\n",
        "    y2 = [x for x in validation_acc]\n",
        "    plt.plot(x,y1,label = \"training acc\")\n",
        "    plt.plot(x,y2,label = \"validation acc\")\n",
        "    plt.legend()\n",
        "    plt.show()\n",
        "acc_plot(history_dict,20)"
      ],
      "execution_count": 9,
      "outputs": [
        {
          "output_type": "display_data",
          "data": {
            "image/png": "[encoded data removed]",
            "text/plain": [
              "<Figure size 432x288 with 1 Axes>"
            ]
          },
          "metadata": {
            "tags": [],
            "needs_background": "light"
          }
        }
      ]
    },
    {
      "cell_type": "code",
      "metadata": {
        "scrolled": true,
        "colab": {
          "base_uri": "https://localhost:8080/"
        },
        "id": "GrbzGdMhr2Qt",
        "outputId": "5a492990-d6ae-446e-eb7e-b3fbeb9a5123"
      },
      "source": [
        "#from the above graphs we see that val acc dec after 3rd epoch and loss inc after 3rd epoch\n",
        "#this isoverfitting where we are overoptimizing on the training data\n",
        "#to prevent overfitting let us train only for 4 epochs\n",
        "new_history = model.fit(partial_x_train,\n",
        "                        partial_y_train,\n",
        "                        epochs=3,\n",
        "                        batch_size=512,\n",
        "                        validation_data=(x_val,y_val))"
      ],
      "execution_count": 10,
      "outputs": [
        {
          "output_type": "stream",
          "text": [
            "Epoch 1/3\n",
            "30/30 [==============================] - 1s 44ms/step - loss: 0.0047 - accuracy: 0.9998 - val_loss: 0.8057 - val_accuracy: 0.8517\n",
            "Epoch 2/3\n",
            "30/30 [==============================] - 1s 35ms/step - loss: 0.0036 - accuracy: 0.9999 - val_loss: 0.7889 - val_accuracy: 0.8592\n",
            "Epoch 3/3\n",
            "30/30 [==============================] - 1s 33ms/step - loss: 0.0047 - accuracy: 0.9992 - val_loss: 0.7933 - val_accuracy: 0.8651\n"
          ],
          "name": "stdout"
        }
      ]
    },
    {
      "cell_type": "code",
      "metadata": {
        "colab": {
          "base_uri": "https://localhost:8080/",
          "height": 527
        },
        "id": "jKQeIS4yr2Qt",
        "outputId": "64954520-dc75-4097-d07c-f64b48928441"
      },
      "source": [
        "new_history_dict = new_history.history\n",
        "plot_loss(new_history_dict,3)\n",
        "acc_plot(new_history_dict,3)"
      ],
      "execution_count": 11,
      "outputs": [
        {
          "output_type": "display_data",
          "data": {
            "image/png": "[encoded data removed]",
            "text/plain": [
              "<Figure size 432x288 with 1 Axes>"
            ]
          },
          "metadata": {
            "tags": [],
            "needs_background": "light"
          }
        },
        {
          "output_type": "display_data",
          "data": {
            "image/png": "[encoded data removed]",
            "text/plain": [
              "<Figure size 432x288 with 1 Axes>"
            ]
          },
          "metadata": {
            "tags": [],
            "needs_background": "light"
          }
        }
      ]
    },
    {
      "cell_type": "code",
      "metadata": {
        "colab": {
          "base_uri": "https://localhost:8080/"
        },
        "id": "QkGlxdIDr2Qu",
        "outputId": "c622dbb7-8d9b-4130-9d87-609a061ce9a2"
      },
      "source": [
        "#using the trained model to predict on new data\n",
        "output = model.predict(x_test)\n",
        "output"
      ],
      "execution_count": 12,
      "outputs": [
        {
          "output_type": "execute_result",
          "data": {
            "text/plain": [
              "array([[0.00563028],\n",
              "       [1.        ],\n",
              "       [0.99933684],\n",
              "       ...,\n",
              "       [0.00157383],\n",
              "       [0.02319247],\n",
              "       [0.77830464]], dtype=float32)"
            ]
          },
          "metadata": {
            "tags": []
          },
          "execution_count": 12
        }
      ]
    },
    {
      "cell_type": "code",
      "metadata": {
        "id": "LQEMqXOWr2Sw"
      },
      "source": [
        ""
      ],
      "execution_count": 12,
      "outputs": []
    }
  ]
}